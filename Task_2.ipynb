{
 "cells": [
  {
   "cell_type": "markdown",
   "id": "8750ee5e-9b41-40ff-919a-2999a2352380",
   "metadata": {},
   "source": [
    "Q1. You are writing code for a company. The requirement of the company is that you create a python\n",
    "function that will check whether the password entered by the user is correct or not. The function should\n",
    "take the password as input and return the string “Valid Password” if the entered password follows the\n",
    "below-given password guidelines else it should return “Invalid Password”.\n",
    "Note: 1. The Password should contain at least two uppercase letters and at least two lowercase letters.\n",
    "2. The Password should contain at least a number and three special characters.\n",
    "3. The length of the password should be 10 characters long."
   ]
  },
  {
   "cell_type": "code",
   "execution_count": 2,
   "id": "5cd54897-de78-43eb-868c-6b82c049d8c4",
   "metadata": {},
   "outputs": [
    {
     "name": "stdout",
     "output_type": "stream",
     "text": [
      "Enter the Password :\n"
     ]
    },
    {
     "name": "stdin",
     "output_type": "stream",
     "text": [
      " ASmk741§$#\n"
     ]
    },
    {
     "name": "stdout",
     "output_type": "stream",
     "text": [
      "Valid Password\n"
     ]
    }
   ],
   "source": [
    "def Check_pswd(pswd):\n",
    "    upper_count = 0\n",
    "    lower_count = 0\n",
    "    digit_count = 0\n",
    "    special_count = 0\n",
    "\n",
    "    for i in pswd:\n",
    "        if i.isupper():\n",
    "            upper_count += 1\n",
    "        elif i.islower():\n",
    "            lower_count += 1\n",
    "        elif i.isdigit():\n",
    "            digit_count += 1\n",
    "        elif not (i.isalpha() or i.isdigit() or i == ' '):\n",
    "            special_count += 1\n",
    "\n",
    "    if (upper_count >= 2 and lower_count >= 2 and digit_count >= 1 and special_count >= 3 and len(pswd) == 10):\n",
    "        return \"Valid Password\"\n",
    "    else:\n",
    "        return \"Invalid Password\"\n",
    "print(\"Enter the Password :\")\n",
    "pswd = input('')\n",
    "print(Check_pswd(pswd))"
   ]
  },
  {
   "cell_type": "markdown",
   "id": "f15c95e9-1ed2-41e9-9b78-8f8a506244fa",
   "metadata": {},
   "source": [
    "Q2. Solve the below-given questions using at least one of the following:\n",
    "1. Lambda function\n",
    "2. Filter function\n",
    "3. Map function\n",
    "4. List Comprehension\n",
    "\n",
    "(i) Check if the string starts with a particular letter\n",
    "(ii) Check if the string is numeric\n",
    "(iii) Sort a list of tuples having fruit names and their quantity. [(\"mango\",99),(\"orange\",80), (\"grapes\", 1000)]\n",
    "(iv) Find the squares of numbers from 1 to 10\n",
    "(v) Find the cube root of numbers from 1 to 10\n",
    "(vi) Check if a given number is even\n",
    "(vii) Filter odd numbers from the given list. [1,2,3,4,5,6,7,8,9,10]\n",
    "(viii) Sort a list of integers into positive and negative integers lists. [1,2,3,4,5,6,-1,-2,-3,-4,-5,0]"
   ]
  },
  {
   "cell_type": "markdown",
   "id": "8562ca1a-8a3e-4b74-b177-570cabc7031d",
   "metadata": {},
   "source": [
    "(i) Check if the string starts with a particular letter."
   ]
  },
  {
   "cell_type": "code",
   "execution_count": 6,
   "id": "80a19d97-043b-4ee1-a2c3-a0b540335393",
   "metadata": {},
   "outputs": [
    {
     "name": "stdin",
     "output_type": "stream",
     "text": [
      " This is my job\n"
     ]
    },
    {
     "name": "stdout",
     "output_type": "stream",
     "text": [
      "True\n"
     ]
    }
   ],
   "source": [
    "#solution\n",
    "String = input(\"\")\n",
    "result = lambda String: True if String.startswith(\"T\") else False\n",
    "print(result(String))"
   ]
  },
  {
   "cell_type": "markdown",
   "id": "f9d1175e-6687-4e40-91bb-6d3259ba70aa",
   "metadata": {},
   "source": [
    "(ii) Check if the string is numeric"
   ]
  },
  {
   "cell_type": "code",
   "execution_count": 10,
   "id": "fecd9edf-2862-4218-98c9-b15e8b84f701",
   "metadata": {},
   "outputs": [
    {
     "name": "stdin",
     "output_type": "stream",
     "text": [
      " 584\n"
     ]
    },
    {
     "name": "stdout",
     "output_type": "stream",
     "text": [
      "True\n"
     ]
    }
   ],
   "source": [
    "#solution\n",
    "String = input(\"\")\n",
    "result = lambda String: True if String.isnumeric() else False\n",
    "print(result(String))"
   ]
  },
  {
   "cell_type": "markdown",
   "id": "9ce1d5f1-581d-47ac-99d3-a217e8941cfa",
   "metadata": {},
   "source": [
    "(iii) Sort a list of tuples having fruit names and their quantity. [(\"mango\",99),(\"orange\",80), (\"grapes\", 1000)] "
   ]
  },
  {
   "cell_type": "code",
   "execution_count": 11,
   "id": "34f8c3c6-9b6a-40c7-aed2-01e7e1ab08f9",
   "metadata": {},
   "outputs": [
    {
     "data": {
      "text/plain": [
       "[('grapes', 1000), ('mango', 99), ('orange', 80)]"
      ]
     },
     "execution_count": 11,
     "metadata": {},
     "output_type": "execute_result"
    }
   ],
   "source": [
    "# Solution\n",
    "l2 = [(\"mango\",99),(\"orange\",80), (\"grapes\", 1000)]\n",
    "l2.sort(key = (lambda x: x))\n",
    "l2"
   ]
  },
  {
   "cell_type": "markdown",
   "id": "1710e8b5-a6d0-4517-be96-f172f8300bb2",
   "metadata": {},
   "source": [
    "(iv) Find the squares of numbers from 1 to 10"
   ]
  },
  {
   "cell_type": "code",
   "execution_count": 5,
   "id": "c5c729c4-0135-4d60-aa10-e398818cf954",
   "metadata": {},
   "outputs": [
    {
     "name": "stdout",
     "output_type": "stream",
     "text": [
      "[1, 2, 3, 4, 5, 6, 7, 8, 9, 10]\n",
      "[1, 4, 9, 16, 25, 36, 49, 64, 81, 100]\n"
     ]
    }
   ],
   "source": [
    "l1 = list(range(1,11))\n",
    "print(l1)\n",
    "l = [i for i in (map(lambda x: x*x,l1))]\n",
    "print(l)"
   ]
  },
  {
   "cell_type": "markdown",
   "id": "958d5664-2b93-4a9d-bb5a-c8ca9ad90ce9",
   "metadata": {},
   "source": [
    "(v) Find the cube root of numbers from 1 to 10"
   ]
  },
  {
   "cell_type": "code",
   "execution_count": 9,
   "id": "3495ffaf-c832-4f70-a503-27158fcc3c82",
   "metadata": {},
   "outputs": [
    {
     "name": "stdout",
     "output_type": "stream",
     "text": [
      "[1, 2, 3, 4, 5, 6, 7, 8, 9, 10]\n",
      "[1.0, 1.2599210498948732, 1.4422495703074083, 1.5874010519681994, 1.7099759466766968, 1.8171205928321397, 1.912931182772389, 2.0, 2.080083823051904, 2.154434690031884]\n"
     ]
    }
   ],
   "source": [
    "l1 = list(range(1,11))\n",
    "print(l1)\n",
    "l = [i for i in (map(lambda x: x**(1/3),l1))]\n",
    "print(l)"
   ]
  },
  {
   "cell_type": "markdown",
   "id": "d94b152f-fb04-48cf-ae91-68022c024d26",
   "metadata": {},
   "source": [
    "(vi) Check if a given number is even "
   ]
  },
  {
   "cell_type": "code",
   "execution_count": 16,
   "id": "340f9a19-d207-4056-bf92-1db531dc61e9",
   "metadata": {},
   "outputs": [
    {
     "name": "stdout",
     "output_type": "stream",
     "text": [
      "Enter the list of number :\n"
     ]
    },
    {
     "name": "stdin",
     "output_type": "stream",
     "text": [
      " 54\n",
      " 87\n",
      " 63\n",
      " 14\n",
      " 94\n"
     ]
    },
    {
     "name": "stdout",
     "output_type": "stream",
     "text": [
      "Original List [54, 87, 63, 14, 94]\n",
      "Filtered Even Number List : [54, 14, 94]\n"
     ]
    }
   ],
   "source": [
    "l1 = []\n",
    "print(\"Enter the list of number :\")\n",
    "for i in range(5):\n",
    "    x = int(input(\"\"))\n",
    "    l1.append(x)\n",
    "print(\"Original List\",l1)\n",
    "l = [i for i in (filter(lambda x: x if(x%2 ==0) else None , l1))]\n",
    "print(\"Filtered Even Number List :\",l)\n"
   ]
  },
  {
   "cell_type": "markdown",
   "id": "0d9575d8-b6aa-4efb-b577-95250fea6064",
   "metadata": {},
   "source": [
    "(vii) Filter odd numbers from the given list. [1,2,3,4,5,6,7,8,9,10]"
   ]
  },
  {
   "cell_type": "code",
   "execution_count": 49,
   "id": "30fc6b1a-a365-4f20-b421-e6b255ca1b79",
   "metadata": {},
   "outputs": [
    {
     "name": "stdout",
     "output_type": "stream",
     "text": [
      "[1, 2, 3, 4, 5, 6, 7, 8, 9, 10]\n",
      "[1, 3, 5, 7, 9]\n"
     ]
    }
   ],
   "source": [
    "#solution\n",
    "l1 = [1,2,3,4,5,6,7,8,9,10]\n",
    "print(l1)\n",
    "l = [i for i in (filter(lambda x: x if(x%2 !=0) else None , l1))]\n",
    "print(l)"
   ]
  },
  {
   "cell_type": "markdown",
   "id": "a8575b1d-e857-4e8c-97e8-fa2c36f15dca",
   "metadata": {},
   "source": [
    " (viii) Sort a list of integers into positive and negative integers lists. [1,2,3,4,5,6,-1,-2,-3,-4,-5,0]"
   ]
  },
  {
   "cell_type": "code",
   "execution_count": 14,
   "id": "ab8963e1-0bf2-4065-aee7-97693f8531f2",
   "metadata": {},
   "outputs": [
    {
     "data": {
      "text/plain": [
       "[-5, -4, -3, -2, -1, 0, 1, 2, 3, 4, 5, 6]"
      ]
     },
     "execution_count": 14,
     "metadata": {},
     "output_type": "execute_result"
    }
   ],
   "source": [
    "#Solution\n",
    "l1= [1,2,3,4,5,6,-1,-2,-3,-4,-5,0]\n",
    "l1.sort(key = (lambda x: x))\n",
    "l1\n"
   ]
  },
  {
   "cell_type": "code",
   "execution_count": null,
   "id": "88344acb-7399-497f-8438-a578a004351e",
   "metadata": {},
   "outputs": [],
   "source": []
  }
 ],
 "metadata": {
  "kernelspec": {
   "display_name": "Python 3 (ipykernel)",
   "language": "python",
   "name": "python3"
  },
  "language_info": {
   "codemirror_mode": {
    "name": "ipython",
    "version": 3
   },
   "file_extension": ".py",
   "mimetype": "text/x-python",
   "name": "python",
   "nbconvert_exporter": "python",
   "pygments_lexer": "ipython3",
   "version": "3.10.8"
  }
 },
 "nbformat": 4,
 "nbformat_minor": 5
}
